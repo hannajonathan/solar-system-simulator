{
  "cells": [
    {
      "cell_type": "markdown",
      "metadata": {
        "id": "_yULOMRnEpWZ"
      },
      "source": [
        "# Solar System Simulator"
      ]
    },
    {
      "cell_type": "markdown",
      "metadata": {
        "id": "pXJEA-w_Et2i"
      },
      "source": [
        "*   **Author:** Jonathan Hanna\n",
        "*   **Date:** 12/17/2024\n"
      ]
    },
    {
      "cell_type": "markdown",
      "metadata": {
        "id": "DuF4MGkuE9jN"
      },
      "source": [
        "## Overview"
      ]
    },
    {
      "cell_type": "markdown",
      "metadata": {
        "id": "_HEkIrBSE_4M"
      },
      "source": [
        "This is a working simulation of our solar system in real time. I've created two animations: one containing the terrestrial planets with trajectory lines and another containing all 8 planets without trajectory lines (for reasons explained later).\n",
        "\n",
        "To find the initial conditions of the trajectories of our planets, I used the [astroquery](https://astroquery.readthedocs.io/en/latest/jplhorizons/jplhorizons.html) package to search for the data from the [JPL Horizons On-Line Ephemeris System](https://ssd.jpl.nasa.gov/horizons/) on the position and trajectory of the celestial bodies.\n",
        "\n",
        "After grabbing the initial conditions, the simulation itself is just a simple 2-dimensional first-order (Euler) integrator."
      ]
    },
    {
      "cell_type": "code",
      "execution_count": null,
      "metadata": {
        "colab": {
          "base_uri": "https://localhost:8080/"
        },
        "id": "DfL18AhxEmRM",
        "outputId": "4292100e-aafc-4064-efac-467588141bbc"
      },
      "outputs": [
        {
          "name": "stdout",
          "output_type": "stream",
          "text": [
            "Collecting astroquery\n",
            "  Downloading astroquery-0.4.7-py3-none-any.whl.metadata (7.2 kB)\n",
            "Requirement already satisfied: numpy>=1.18 in /usr/local/lib/python3.10/dist-packages (from astroquery) (1.26.4)\n",
            "Requirement already satisfied: astropy>=4.2.1 in /usr/local/lib/python3.10/dist-packages (from astroquery) (6.1.7)\n",
            "Requirement already satisfied: requests>=2.19 in /usr/local/lib/python3.10/dist-packages (from astroquery) (2.32.3)\n",
            "Requirement already satisfied: beautifulsoup4>=4.8 in /usr/local/lib/python3.10/dist-packages (from astroquery) (4.12.3)\n",
            "Requirement already satisfied: html5lib>=0.999 in /usr/local/lib/python3.10/dist-packages (from astroquery) (1.1)\n",
            "Requirement already satisfied: keyring>=15.0 in /usr/lib/python3/dist-packages (from astroquery) (23.5.0)\n",
            "Collecting pyvo>=1.1 (from astroquery)\n",
            "  Downloading pyvo-1.6-py3-none-any.whl.metadata (4.8 kB)\n",
            "Requirement already satisfied: pyerfa>=2.0.1.1 in /usr/local/lib/python3.10/dist-packages (from astropy>=4.2.1->astroquery) (2.0.1.5)\n",
            "Requirement already satisfied: astropy-iers-data>=0.2024.10.28.0.34.7 in /usr/local/lib/python3.10/dist-packages (from astropy>=4.2.1->astroquery) (0.2024.12.9.0.36.21)\n",
            "Requirement already satisfied: PyYAML>=3.13 in /usr/local/lib/python3.10/dist-packages (from astropy>=4.2.1->astroquery) (6.0.2)\n",
            "Requirement already satisfied: packaging>=19.0 in /usr/local/lib/python3.10/dist-packages (from astropy>=4.2.1->astroquery) (24.2)\n",
            "Requirement already satisfied: soupsieve>1.2 in /usr/local/lib/python3.10/dist-packages (from beautifulsoup4>=4.8->astroquery) (2.6)\n",
            "Requirement already satisfied: six>=1.9 in /usr/local/lib/python3.10/dist-packages (from html5lib>=0.999->astroquery) (1.17.0)\n",
            "Requirement already satisfied: webencodings in /usr/local/lib/python3.10/dist-packages (from html5lib>=0.999->astroquery) (0.5.1)\n",
            "Requirement already satisfied: charset-normalizer<4,>=2 in /usr/local/lib/python3.10/dist-packages (from requests>=2.19->astroquery) (3.4.0)\n",
            "Requirement already satisfied: idna<4,>=2.5 in /usr/local/lib/python3.10/dist-packages (from requests>=2.19->astroquery) (3.10)\n",
            "Requirement already satisfied: urllib3<3,>=1.21.1 in /usr/local/lib/python3.10/dist-packages (from requests>=2.19->astroquery) (2.2.3)\n",
            "Requirement already satisfied: certifi>=2017.4.17 in /usr/local/lib/python3.10/dist-packages (from requests>=2.19->astroquery) (2024.8.30)\n",
            "Downloading astroquery-0.4.7-py3-none-any.whl (5.3 MB)\n",
            "\u001b[2K   \u001b[90m━━━━━━━━━━━━━━━━━━━━━━━━━━━━━━━━━━━━━━━━\u001b[0m \u001b[32m5.3/5.3 MB\u001b[0m \u001b[31m24.4 MB/s\u001b[0m eta \u001b[36m0:00:00\u001b[0m\n",
            "\u001b[?25hDownloading pyvo-1.6-py3-none-any.whl (994 kB)\n",
            "\u001b[2K   \u001b[90m━━━━━━━━━━━━━━━━━━━━━━━━━━━━━━━━━━━━━━━━\u001b[0m \u001b[32m994.8/994.8 kB\u001b[0m \u001b[31m37.2 MB/s\u001b[0m eta \u001b[36m0:00:00\u001b[0m\n",
            "\u001b[?25hInstalling collected packages: pyvo, astroquery\n",
            "Successfully installed astroquery-0.4.7 pyvo-1.6\n"
          ]
        }
      ],
      "source": [
        "!pip install astroquery"
      ]
    },
    {
      "cell_type": "code",
      "execution_count": null,
      "metadata": {
        "id": "OSJRIUpXJGR5"
      },
      "outputs": [],
      "source": [
        "from astroquery.jplhorizons import Horizons\n",
        "from astropy.time import Time\n",
        "import matplotlib\n",
        "import matplotlib.pyplot as plt\n",
        "import numpy as np\n",
        "import matplotlib.animation as animation\n",
        "from IPython.display import HTML"
      ]
    },
    {
      "cell_type": "markdown",
      "metadata": {
        "id": "SlgraIfLN0Ad"
      },
      "source": [
        "## Using JPL Horizons"
      ]
    },
    {
      "cell_type": "markdown",
      "metadata": {
        "id": "nbRciFG7K9KF"
      },
      "source": [
        "* **Time:** There's a YYYY-MM-DD string that represents the initial time of the simulation that we will use to get the initial conditions of the planets. This is done for readability purposes--the actual time used in Horizons is in Julian Date format, which we calculate by converting the YYYY-MM-DD string using `astropy.time`. For this demo, we begin in January 1, 1960 (1960-01-01), the earliest UTC time.\n",
        "\n",
        "* **State Vector:** To get the position and velocity of the celestial body at its given epoch, also known as the state vector, we initialize the `Horizons` object (with the ID of the planet, the chosen origin of our coordinate system, and the start time calculated earlier) and simply call `vectors()` on it. To demonstrate the metadata given in the state vector, we print out its columns.\n",
        "\n",
        "  Here, 'x/y/z' (AU) and 'vx/vy/vz' (AU/day) are the positions and velocities. This is the only information we need to begin."
      ]
    },
    {
      "cell_type": "code",
      "execution_count": null,
      "metadata": {
        "colab": {
          "base_uri": "https://localhost:8080/"
        },
        "id": "FF1E4if9J1Ws",
        "outputId": "b13a41eb-eb81-4330-91fa-7fc16f009271"
      },
      "outputs": [
        {
          "name": "stdout",
          "output_type": "stream",
          "text": [
            "<TableColumns names=('targetname','datetime_jd','datetime_str','x','y','z','vx','vy','vz','lighttime','range','range_rate')>\n"
          ]
        }
      ],
      "source": [
        "start_time_yyyy_mm_dd = \"1960-01-01\"\n",
        "start_time_jd = Time(start_time_yyyy_mm_dd).jd\n",
        "\n",
        "earth_data = Horizons(id='399', location='@sun', epochs=start_time_jd).vectors()\n",
        "print(earth_data.columns)"
      ]
    },
    {
      "cell_type": "markdown",
      "metadata": {
        "id": "bbB6hh7sRs9W"
      },
      "source": [
        "## A note on acceleration and relevant constants:\n",
        "\n",
        "This is the gravitational acceleration applied to the position vector of a planet\n",
        "\n",
        "$$\\vec{a_r} = - \\frac{GM_\\odot \\vec{r}}{(||\\vec{r}||^2)^{3/2}}$$\n",
        "\n",
        "Because the state vector's position and time is measured in AU and days, we must rewrite $G$ as such:\n",
        "\n",
        "$$G = 6.673 \\times 10^{-11} \\frac{m^3}{kg s^2} \\times (\\frac{1 AU}{1.4960\\times10^{11} m})^3 \\times (\\frac{86400 s}{1 d})^2$$\n",
        "\n",
        "$$G = 1.487831774 \\times 10^{-34} \\frac{AU^3}{kg d^2}$$\n",
        "\n",
        "Noting that $M_\\odot = 1.989 \\times 10^{30} kg$, we can then define a constant\n",
        "\n",
        "$$GM = GM_\\odot = 1.487831774 \\times 10^{-34} \\frac{AU^3}{kg d^2} \\times 1.989 \\times 10^{30} kg$$\n",
        "\n",
        "$$ GM = 2.95929739849 \\times 10^{-4} \\frac{AU^3}{d^2}$$\n",
        "\n",
        "Which is what we use in our step function."
      ]
    },
    {
      "cell_type": "markdown",
      "metadata": {
        "id": "E-Gflm7RRqdk"
      },
      "source": [
        "## Simulation"
      ]
    },
    {
      "cell_type": "markdown",
      "metadata": {
        "id": "_iXMWToDHbP2"
      },
      "source": [
        "Here, we define the constant $GM$ and the functions used to simulate the orbit of one planet"
      ]
    },
    {
      "cell_type": "code",
      "execution_count": null,
      "metadata": {
        "id": "KoIdJflEUoVd"
      },
      "outputs": [],
      "source": [
        "# constants\n",
        "GM = 2.95929739849e-4 # AU^3 / day^2\n",
        "\n",
        "def a(planet):\n",
        "  return (-GM * planet['r'] / (np.sum(planet['r']**2))**(3.0/2))\n",
        "\n",
        "def StepPlanet(planet, positions, trails, trail, dt):\n",
        "  # handle positions\n",
        "  planet['v'] += a(planet) * dt\n",
        "  planet['r'] += planet['v'] * dt\n",
        "  planet['point'].set_offsets(planet['r'][:2])\n",
        "  positions.append(planet['point'])\n",
        "\n",
        "  # handle trails\n",
        "  planet['xs'].append(planet['r'][0])\n",
        "  planet['ys'].append(planet['r'][1])\n",
        "  trail.set_xdata(planet['xs'])\n",
        "  trail.set_ydata(planet['ys'])\n",
        "  trails.append(trail)\n",
        "\n",
        "def StepSolarSystem(planets, time, dt, timestamp):\n",
        "  planets_positions = []\n",
        "  planets_trails = []\n",
        "  for planet in planets:\n",
        "    trail, = ax.plot([], [], color = 'white', linewidth=1.4)\n",
        "    StepPlanet(planet, planets_positions, planets_trails, trail, dt)\n",
        "  time += dt\n",
        "  timestamp.set_text('Date: ' + Time(time, format='jd').iso)\n",
        "  return planets_positions + planets_trails + [timestamp], time"
      ]
    },
    {
      "cell_type": "markdown",
      "metadata": {
        "id": "K0yY83VVHksL"
      },
      "source": [
        "This is where we simulate the terrestrial planets: Mercury, Venus, Earth, and Mars."
      ]
    },
    {
      "cell_type": "code",
      "execution_count": null,
      "metadata": {
        "colab": {
          "background_save": true,
          "base_uri": "https://localhost:8080/",
          "height": 1000
        },
        "id": "_xbFYePZRrx4",
        "outputId": "ba9b8a27-1727-418d-b889-9a4209ac9028"
      },
      "outputs": [],
      "source": [
        "# adjustable parameters\n",
        "dt = 1.5\n",
        "timeframe = (int)(2 * 365 / dt) # number of dts\n",
        "start_time_yyyy_mm_dd = \"1960-01-01\"\n",
        "\n",
        "# converted parameters\n",
        "start_time_jd = Time(start_time_yyyy_mm_dd).jd\n",
        "time = start_time_jd\n",
        "\n",
        "# create plot\n",
        "plt.style.use('dark_background')\n",
        "fig = plt.figure(figsize=[6, 6])\n",
        "ax = plt.axes([0., 0., 1., 1.], xlim=(-2, 2), ylim=(-2, 2))\n",
        "ax.scatter(0, 0, color='white') # this is the Sun\n",
        "timestamp = ax.text(.22, .95, 'Date: ', transform=ax.transAxes, fontsize='x-large')\n",
        "\n",
        "# initialize planets\n",
        "planetids = [199, 299, 399, 499]\n",
        "colors = ['red', 'orange', 'limegreen', 'chocolate']\n",
        "planets = []\n",
        "\n",
        "for i in range(len(planetids)):\n",
        "  planet_hor = Horizons(id=planetids[i], location='@sun', epochs=start_time_jd).vectors()\n",
        "  planet = {\n",
        "      'r'     : np.array([np.double(planet_hor[ri]) for ri in ['x', 'y', 'z']]),\n",
        "      'v'     : np.array([np.double(planet_hor[vi]) for vi in ['vx', 'vy', 'vz']]),\n",
        "      'point' : ax.scatter(planet['r'][0], planet['r'][1], color=colors[i]),\n",
        "      'xs'    : [],\n",
        "      'ys'    : [] # xs and ys to keep track of for trail\n",
        "  }\n",
        "  planets.append(planet)\n",
        "\n",
        "# animate\n",
        "def animate(i):\n",
        "  global time\n",
        "  result, time = StepSolarSystem(planets, time, dt, timestamp)\n",
        "  return result\n",
        "\n",
        "ani = animation.FuncAnimation(fig, animate, repeat=False, frames=timeframe, blit=True, interval=20,)\n",
        "HTML(ani.to_jshtml())"
      ]
    },
    {
      "cell_type": "markdown",
      "metadata": {
        "id": "xqouOIeCLm2Y"
      },
      "source": [
        "This is where we simulate every planet.\n",
        "\n",
        "Note that Neptune's orbital period is ~165 Earth years. To get a full orbit, I'd like to simulate for a total time a bit larger than that. If we were to simulate every planet, in order to ensure that the first four planets' trajectories remain acceptably accurate (i.e., Mercury doesn't get completely flung out of orbit), we would have to keep a timestep of ~10 days, max. This does, admittedly, add some eccentricity to the terrestrial planets.\n",
        "\n",
        "Because we keep the timestep short over such a long time frame, it's extremely computationally expensive to keep the tails in the animation (I had it running for over an hour and I still didn't get a full orbit of Neptune), so I removed them. Perhaps there was a more efficient way to draw them, but this runs much faster without them (A 200-year long simulation takes about 10 minutes to compile)."
      ]
    },
    {
      "cell_type": "code",
      "execution_count": null,
      "metadata": {
        "id": "T8YUTfvg0ygx"
      },
      "outputs": [],
      "source": [
        "# constants\n",
        "GM = 2.95929739849e-4 # AU^3 / day^2\n",
        "\n",
        "def a(planet):\n",
        "  return (-GM * planet['r'] / (np.sum(planet['r']**2))**(3.0/2))\n",
        "\n",
        "def StepPlanet(planet, positions, dt):\n",
        "  # handle positions\n",
        "  planet['v'] += a(planet) * dt\n",
        "  planet['r'] += planet['v'] * dt\n",
        "  planet['point'].set_offsets(planet['r'][:2])\n",
        "  positions.append(planet['point'])\n",
        "\n",
        "def StepSolarSystem(planets, time, dt, timestamp):\n",
        "  planets_positions = []\n",
        "  for planet in planets:\n",
        "    StepPlanet(planet, planets_positions, dt)\n",
        "  time += dt\n",
        "  timestamp.set_text('Date: ' + Time(time, format='jd').iso)\n",
        "  # print(time)\n",
        "  return planets_positions + [timestamp], time"
      ]
    },
    {
      "cell_type": "code",
      "execution_count": null,
      "metadata": {
        "colab": {
          "base_uri": "https://localhost:8080/",
          "height": 1352
        },
        "id": "3kotoxenTTG9",
        "outputId": "476fc297-ae06-4261-ceab-391348468f77"
      },
      "outputs": [],
      "source": [
        "# adjustable parameters\n",
        "timeframe = (int)(200 * 365 / dt) # number of dts\n",
        "dt = 10\n",
        "start_time_yyyy_mm_dd = \"1960-01-01\"\n",
        "\n",
        "# converted parameters\n",
        "start_time_jd = Time(start_time_yyyy_mm_dd).jd\n",
        "time = start_time_jd\n",
        "\n",
        "# create plot\n",
        "plt.style.use('dark_background')\n",
        "fig = plt.figure(figsize=[6, 6])\n",
        "ax = plt.axes([0., 0., 1., 1.], xlim=(-31, 31), ylim=(-31, 31))\n",
        "ax.scatter(0, 0, color='white') # this is the Sun\n",
        "ax.set_aspect('equal')\n",
        "timestamp = ax.text(.22, .95, 'Date: ', transform=ax.transAxes, fontsize='x-large')\n",
        "\n",
        "# initialize planets\n",
        "planetids = [199, 299, 399, 499, 599, 699, 799, 899]\n",
        "colors = ['red', 'orange', 'limegreen', 'chocolate', 'goldenrod', 'wheat', 'paleturquoise', 'deepskyblue']\n",
        "planets = []\n",
        "\n",
        "for i in range(len(planetids)):\n",
        "  planet_hor = Horizons(id=planetids[i], location='@sun', epochs=start_time_jd).vectors()\n",
        "  planet = {\n",
        "      'r'     : np.array([np.double(planet_hor[ri]) for ri in ['x', 'y', 'z']]),\n",
        "      'v'     : np.array([np.double(planet_hor[vi]) for vi in ['vx', 'vy', 'vz']]),\n",
        "      'point' : ax.scatter(planet['r'][0], planet['r'][1], color=colors[i]),\n",
        "      'xs'    : [],\n",
        "      'ys'    : [] # xs and ys to keep track of for trail\n",
        "  }\n",
        "  planets.append(planet)\n",
        "\n",
        "# animate\n",
        "# increase max animation size because the simulation runs for so long\n",
        "matplotlib.rcParams['animation.embed_limit'] = 100\n",
        "def animate(i):\n",
        "  global time\n",
        "  result, time = StepSolarSystem(planets, time, dt, timestamp)\n",
        "  return result\n",
        "\n",
        "ani = animation.FuncAnimation(fig, animate, repeat=False, frames=timeframe, blit=True, interval=20,)\n",
        "HTML(ani.to_jshtml())"
      ]
    },
    {
      "cell_type": "markdown",
      "metadata": {
        "id": "MAlvZJ6a-_O2"
      },
      "source": [
        "I wanted to see if I could still trace the lines of the orbit without having the animation run, since I assume the animation is what's doing the brunt of the work. I redefined the functions here and created an `Orbit` function that used the `StepSolarSystem`. And it's a success!"
      ]
    },
    {
      "cell_type": "code",
      "execution_count": null,
      "metadata": {
        "id": "1QCo-baQNfCI"
      },
      "outputs": [],
      "source": [
        "# constants\n",
        "GM = 2.95929739849e-4 # AU^3 / day^2\n",
        "\n",
        "def a(planet):\n",
        "  return (-GM * planet['r'] / (np.sum(planet['r']**2))**(3.0/2))\n",
        "\n",
        "def StepPlanet(planet, positions, dt):\n",
        "  # handle positions\n",
        "  planet['v'] += a(planet) * dt\n",
        "  planet['r'] += planet['v'] * dt\n",
        "  planet['point'].set_offsets(planet['r'][:2])\n",
        "  positions.append(planet['point'])\n",
        "\n",
        "  # handle trails (without animating)\n",
        "  planet['xs'].append(planet['r'][0])\n",
        "  planet['ys'].append(planet['r'][1])\n",
        "\n",
        "def StepSolarSystem(planets, time, dt, timestamp):\n",
        "  planets_positions = []\n",
        "  planets_trails = []\n",
        "  for planet in planets:\n",
        "    StepPlanet(planet, planets_positions, dt)\n",
        "  time += dt\n",
        "  return planets_positions + [timestamp], time\n",
        "\n",
        "def Orbit(planets, time, dt, timestamp, timeframe):\n",
        "  localtime = 0\n",
        "  while localtime < timeframe * dt:\n",
        "    StepSolarSystem(planets, time, dt, timestamp)\n",
        "    localtime += dt"
      ]
    },
    {
      "cell_type": "code",
      "execution_count": null,
      "metadata": {
        "colab": {
          "base_uri": "https://localhost:8080/",
          "height": 696
        },
        "id": "K0-mCioR_6_z",
        "outputId": "f0b6e526-036e-4594-84cc-2960efa78fd9"
      },
      "outputs": [
        {
          "name": "stderr",
          "output_type": "stream",
          "text": [
            "/usr/local/lib/python3.10/dist-packages/erfa/core.py:133: ErfaWarning: ERFA function \"d2dtf\" yielded 1 of \"dubious year (Note 5)\"\n",
            "  warn(f'ERFA function \"{func_name}\" yielded {wmsg}', ErfaWarning)\n"
          ]
        },
        {
          "data": {
            "image/png": "[encoded data removed]",
            "text/plain": [
              "<Figure size 600x600 with 1 Axes>"
            ]
          },
          "metadata": {},
          "output_type": "display_data"
        }
      ],
      "source": [
        "# adjustable parameters\n",
        "timeframe = (int)(200 * 365 / dt) # number of dts\n",
        "dt = 10\n",
        "start_time_yyyy_mm_dd = \"1960-01-01\"\n",
        "\n",
        "# converted parameters\n",
        "start_time_jd = Time(start_time_yyyy_mm_dd).jd\n",
        "time = start_time_jd\n",
        "\n",
        "# create plot\n",
        "plt.style.use('dark_background')\n",
        "fig = plt.figure(figsize=[6, 6])\n",
        "ax = plt.axes([0., 0., 1., 1.], xlim=(-31, 31), ylim=(-31, 31))\n",
        "ax.scatter(0, 0, color='white') # this is the Sun\n",
        "ax.set_aspect('equal')\n",
        "timestamp = ax.text(.22, .95, 'Date: ', transform=ax.transAxes, fontsize='x-large')\n",
        "\n",
        "# initialize planets\n",
        "planetids = [199, 299, 399, 499, 599, 699, 799, 899]\n",
        "colors = ['red', 'orange', 'limegreen', 'chocolate', 'goldenrod', 'wheat', 'paleturquoise', 'deepskyblue']\n",
        "planets = []\n",
        "\n",
        "for i in range(len(planetids)):\n",
        "  planet_hor = Horizons(id=planetids[i], location='@sun', epochs=start_time_jd).vectors()\n",
        "  planet = {\n",
        "      'r'     : np.array([np.double(planet_hor[ri]) for ri in ['x', 'y', 'z']]),\n",
        "      'v'     : np.array([np.double(planet_hor[vi]) for vi in ['vx', 'vy', 'vz']]),\n",
        "      'point' : ax.scatter(planet['r'][0], planet['r'][1], color=colors[i]),\n",
        "      'xs'    : [],\n",
        "      'ys'    : [] # xs and ys to keep track of for trail\n",
        "  }\n",
        "  planets.append(planet)\n",
        "\n",
        "# run the orbit and plot the xs and ys of each planet\n",
        "Orbit(planets, time, dt, timestamp, timeframe)\n",
        "for i in range(len(planets)):\n",
        "    ax.plot(planets[i]['xs'], planets[i]['ys'], color=colors[i])\n",
        "timestamp.set_text('Date: ' + Time(time + timeframe * dt, format='jd').iso)\n",
        "plt.show()"
      ]
    },
    {
      "cell_type": "markdown",
      "metadata": {
        "id": "9n-KfXFbExVV"
      },
      "source": [
        "Thank you for reading :) have a nice day!"
      ]
    }
  ],
  "metadata": {
    "colab": {
      "provenance": []
    },
    "kernelspec": {
      "display_name": "Python 3",
      "name": "python3"
    },
    "language_info": {
      "name": "python"
    }
  },
  "nbformat": 4,
  "nbformat_minor": 0
}
